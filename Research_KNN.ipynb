{
 "cells": [
  {
   "cell_type": "code",
   "execution_count": 37,
   "metadata": {},
   "outputs": [],
   "source": [
    "import pandas as pd\n",
    "import seaborn as sns\n",
    "import matplotlib.pyplot as plt\n",
    "from keras.models import Sequential\n",
    "from keras.layers import LSTM, Dense\n",
    "import numpy as np\n",
    "from sklearn.neighbors import KNeighborsClassifier\n",
    "from sklearn.svm import SVC\n",
    "from sklearn.metrics import confusion_matrix\n",
    "from sklearn.model_selection import train_test_split\n",
    "from sklearn.ensemble import RandomForestClassifier\n",
    "from sklearn.metrics import accuracy_score, precision_score, recall_score, f1_score\n",
    "\n",
    "# Load the data into a Pandas dataframe\n",
    "data = pd.read_csv('dataset/train_data.txt', header=None)\n",
    "X = data.iloc[:, :-1] # Features\n",
    "y = data.iloc[:, -1] # Labels\n",
    "\n",
    "# Split the data into training and testing sets\n",
    "X_train, X_test, y_train, y_test = train_test_split(X, y, test_size=0.2, random_state=42)\n",
    "\n",
    "# Create an instance of the random forest classifier\n"
   ]
  },
  {
   "cell_type": "code",
   "execution_count": 21,
   "metadata": {},
   "outputs": [],
   "source": [
    "\n",
    "\n"
   ]
  },
  {
   "cell_type": "code",
   "execution_count": 28,
   "metadata": {},
   "outputs": [
    {
     "name": "stdout",
     "output_type": "stream",
     "text": [
      "[[106   0]\n",
      " [  0 102]]\n"
     ]
    },
    {
     "data": {
      "image/png": "[encoded data removed]",
      "text/plain": [
       "<Figure size 432x288 with 2 Axes>"
      ]
     },
     "metadata": {
      "needs_background": "light"
     },
     "output_type": "display_data"
    }
   ],
   "source": [
    "rf = RandomForestClassifier(n_estimators=100, max_depth=10, random_state=42)\n",
    "\n",
    "# Train the random forest classifier on the training data\n",
    "rf.fit(X_train, y_train)\n",
    "\n",
    "# Use the trained random forest classifier to make predictions on the testing data\n",
    "y_pred_RF = rf.predict(X_test)\n",
    "cm_RF = confusion_matrix(y_test, y_pred_RF)\n",
    "print(cm_RF)\n",
    "plt.subplot(2,1,1)\n",
    "sns.heatmap(cm_RF,fmt='d', annot=True, cmap='Reds')\n",
    "plt.title(\"the heatmsp of the algorithm of Random Forest\")\n",
    "plt.xlabel('Predicted Labels')\n",
    "plt.ylabel('True Labels')\n",
    "plt.show()"
   ]
  },
  {
   "cell_type": "code",
   "execution_count": 4,
   "metadata": {},
   "outputs": [],
   "source": [
    "knn = KNeighborsClassifier(n_neighbors=3)\n",
    "knn.fit(X_train, y_train)\n",
    "y_pred_KNN = knn.predict(X_test)\n",
    "\n"
   ]
  },
  {
   "cell_type": "code",
   "execution_count": 29,
   "metadata": {},
   "outputs": [
    {
     "name": "stdout",
     "output_type": "stream",
     "text": [
      "[[97  9]\n",
      " [13 89]]\n"
     ]
    },
    {
     "data": {
      "image/png": "[encoded data removed]",
      "text/plain": [
       "<Figure size 432x288 with 2 Axes>"
      ]
     },
     "metadata": {
      "needs_background": "light"
     },
     "output_type": "display_data"
    }
   ],
   "source": [
    "cm = confusion_matrix(y_test, y_pred_KNN)\n",
    "print(cm)\n",
    "sns.heatmap(cm, annot=True, cmap='Reds')\n",
    "plt.title(\"the heatmsp of the algorithm of KNN\")\n",
    "plt.xlabel('Predicted Labels')\n",
    "plt.ylabel('True Labels')\n",
    "plt.show()\n"
   ]
  },
  {
   "cell_type": "code",
   "execution_count": 17,
   "metadata": {},
   "outputs": [
    {
     "name": "stdout",
     "output_type": "stream",
     "text": [
      "Accuracy: 1.0\n"
     ]
    }
   ],
   "source": [
    "svm = SVC(kernel='linear')\n",
    "\n",
    "# Fit the model to the training data\n",
    "svm.fit(X_train, y_train)\n",
    "\n",
    "# Make predictions on the testing data\n",
    "y_pred_SVM = svm.predict(X_test)\n",
    "\n",
    "# Calculate the accuracy score of the model on the testing data\n",
    "accuracy = accuracy_score(y_test, y_pred)\n",
    "print(\"Accuracy:\", accuracy)"
   ]
  },
  {
   "cell_type": "code",
   "execution_count": 32,
   "metadata": {},
   "outputs": [
    {
     "name": "stdout",
     "output_type": "stream",
     "text": [
      "[[106   0]\n",
      " [  0 102]]\n"
     ]
    },
    {
     "data": {
      "image/png": "[encoded data removed]",
      "text/plain": [
       "<Figure size 432x288 with 2 Axes>"
      ]
     },
     "metadata": {
      "needs_background": "light"
     },
     "output_type": "display_data"
    }
   ],
   "source": [
    "cm = confusion_matrix(y_test, y_pred_SVM)\n",
    "print(cm)\n",
    "sns.heatmap(cm, annot=True,fmt='d', cmap='Reds')\n",
    "plt.title(\"the heatmsp of the algorithm of SVM\")\n",
    "plt.xlabel('Predicted Labels')\n",
    "plt.ylabel('True Labels')\n",
    "plt.show()"
   ]
  },
  {
   "cell_type": "code",
   "execution_count": 40,
   "metadata": {},
   "outputs": [
    {
     "name": "stdout",
     "output_type": "stream",
     "text": [
      "Epoch 1/10\n",
      "26/26 [==============================] - 12s 155ms/step - loss: 1.0809 - accuracy: 0.6983 - val_loss: 0.3337 - val_accuracy: 0.8894\n",
      "Epoch 2/10\n",
      "26/26 [==============================] - 2s 71ms/step - loss: 0.2583 - accuracy: 0.9171 - val_loss: 0.2654 - val_accuracy: 0.8798\n",
      "Epoch 3/10\n",
      "26/26 [==============================] - 3s 102ms/step - loss: 3.3412 - accuracy: 0.9087 - val_loss: 0.3105 - val_accuracy: 0.8462\n",
      "Epoch 4/10\n",
      "26/26 [==============================] - 5s 177ms/step - loss: 0.3930 - accuracy: 0.8462 - val_loss: 0.2925 - val_accuracy: 0.8798\n",
      "Epoch 5/10\n",
      "26/26 [==============================] - 5s 179ms/step - loss: 0.2203 - accuracy: 0.9219 - val_loss: 0.1535 - val_accuracy: 0.9567\n",
      "Epoch 6/10\n",
      "26/26 [==============================] - 5s 202ms/step - loss: 0.1361 - accuracy: 0.9507 - val_loss: 0.1177 - val_accuracy: 0.9712\n",
      "Epoch 7/10\n",
      "26/26 [==============================] - 5s 178ms/step - loss: 0.1039 - accuracy: 0.9651 - val_loss: 0.0870 - val_accuracy: 0.9760\n",
      "Epoch 8/10\n",
      "26/26 [==============================] - 4s 159ms/step - loss: 1.8760 - accuracy: 0.9291 - val_loss: 0.2654 - val_accuracy: 0.9087\n",
      "Epoch 9/10\n",
      "26/26 [==============================] - 3s 128ms/step - loss: 0.2065 - accuracy: 0.9483 - val_loss: 0.1202 - val_accuracy: 0.9615\n",
      "Epoch 10/10\n",
      "26/26 [==============================] - 3s 118ms/step - loss: 0.0761 - accuracy: 0.9856 - val_loss: 0.0136 - val_accuracy: 1.0000\n"
     ]
    },
    {
     "data": {
      "text/plain": [
       "<keras.callbacks.History at 0x23ed8cadb80>"
      ]
     },
     "execution_count": 40,
     "metadata": {},
     "output_type": "execute_result"
    }
   ],
   "source": [
    "from sklearn.model_selection import train_test_split\n",
    "from tensorflow.keras.models import Sequential\n",
    "from tensorflow.keras.layers import Dense, LSTM\n",
    "\n",
    "# Load the dataset (assuming it is stored in a pandas DataFrame called \"data\")\n",
    "data = pd.read_csv(\"dataset/train_data.txt\", header=None) # assuming your dataset doesn't have column names\n",
    "\n",
    "# Generate column names\n",
    "num_columns = data.shape[1] - 1 # assuming the last column is the target variable\n",
    "column_names = [\"feature_\" + str(i+1) for i in range(num_columns)] + [\"target_variable\"]\n",
    "\n",
    "# Assign the column names to the DataFrame\n",
    "data.columns = column_names\n",
    "\n",
    "# Split the data into training and testing sets\n",
    "X = data.drop(columns=[\"target_variable\"]).values\n",
    "y = data[\"target_variable\"].values\n",
    "X_train, X_test, y_train, y_test = train_test_split(X, y, test_size=0.2)\n",
    "\n",
    "# Reshape the input data\n",
    "X_train = np.reshape(X_train, (X_train.shape[0], X_train.shape[1], 1))\n",
    "X_test = np.reshape(X_test, (X_test.shape[0], X_test.shape[1], 1))\n",
    "\n",
    "# Define the LSTM model\n",
    "model = Sequential()\n",
    "model.add(LSTM(128, input_shape=(X_train.shape[1], 1), activation='relu', return_sequences=True))\n",
    "model.add(LSTM(64, activation='relu'))\n",
    "model.add(Dense(1, activation='sigmoid'))\n",
    "\n",
    "# Compile the model\n",
    "model.compile(loss='binary_crossentropy', optimizer='adam', metrics=['accuracy'])\n",
    "\n",
    "# Train the model\n",
    "model.fit(X_train, y_train, epochs=10, batch_size=32, validation_data=(X_test, y_test))"
   ]
  },
  {
   "cell_type": "code",
   "execution_count": 43,
   "metadata": {},
   "outputs": [
    {
     "name": "stdout",
     "output_type": "stream",
     "text": [
      "7/7 [==============================] - 1s 41ms/step\n",
      "Accuracy: 1.0\n",
      "Confusion Matrix:\n",
      " [[ 99   0]\n",
      " [  0 109]]\n"
     ]
    }
   ],
   "source": [
    "y_pred = model.predict(X_test)\n",
    "y_pred = (y_pred > 0.5).astype(int) # classify the output to 0 and 1\n",
    "accuracy = accuracy_score(y_test, y_pred) # calculate the accuracy\n",
    "print(\"Accuracy:\", accuracy)\n",
    "\n",
    "# Plot the confusion matrix\n",
    "cm_LSTM = confusion_matrix(y_test, y_pred)\n",
    "print(\"Confusion Matrix:\\n\", cm)"
   ]
  },
  {
   "cell_type": "code",
   "execution_count": 45,
   "metadata": {},
   "outputs": [
    {
     "data": {
      "image/png": "[encoded data removed]",
      "text/plain": [
       "<Figure size 432x288 with 2 Axes>"
      ]
     },
     "metadata": {
      "needs_background": "light"
     },
     "output_type": "display_data"
    }
   ],
   "source": [
    "sns.heatmap(cm_LSTM, annot=True,fmt='d', cmap='Reds')\n",
    "plt.title(\"the heatmsp of the algorithm of LSTM\")\n",
    "plt.xlabel('Predicted Labels')\n",
    "plt.ylabel('True Labels')\n",
    "plt.show()"
   ]
  },
  {
   "cell_type": "code",
   "execution_count": null,
   "metadata": {},
   "outputs": [],
   "source": []
  }
 ],
 "metadata": {
  "kernelspec": {
   "display_name": "base",
   "language": "python",
   "name": "python3"
  },
  "language_info": {
   "codemirror_mode": {
    "name": "ipython",
    "version": 3
   },
   "file_extension": ".py",
   "mimetype": "text/x-python",
   "name": "python",
   "nbconvert_exporter": "python",
   "pygments_lexer": "ipython3",
   "version": "3.9.7"
  },
  "orig_nbformat": 4,
  "vscode": {
   "interpreter": {
    "hash": "a2ab3825ac7005fb7b26f112e9c99ae62f464c629e30b0d534c3b931b6cbc3ff"
   }
  }
 },
 "nbformat": 4,
 "nbformat_minor": 2
}
